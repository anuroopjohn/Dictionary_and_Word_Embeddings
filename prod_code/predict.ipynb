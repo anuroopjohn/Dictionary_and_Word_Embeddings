{
 "cells": [
  {
   "cell_type": "code",
   "execution_count": 1,
   "id": "83d6020b-2808-4952-9b26-16a6a844efa5",
   "metadata": {},
   "outputs": [
    {
     "name": "stderr",
     "output_type": "stream",
     "text": [
      "2022-07-29 12:11:41.600798: I tensorflow/core/util/util.cc:169] oneDNN custom operations are on. You may see slightly different numerical results due to floating-point round-off errors from different computation orders. To turn them off, set the environment variable `TF_ENABLE_ONEDNN_OPTS=0`.\n"
     ]
    },
    {
     "name": "stdout",
     "output_type": "stream",
     "text": [
      "Seed set to 42\n",
      "Preparing Model and Search Attributes...\n",
      "\n",
      "Loading Tokenizer: xlm-roberta-large ...\n",
      "Loading from : /data/users/kartik/Dictionary_and_Word_Embeddings/checkpoints/xlm-roberta-large_cosineloss_fasttext_embs_False_adapter_False_extradata_0/model.pt\n",
      "\n",
      "Using device cuda:0 for training...\n"
     ]
    },
    {
     "name": "stderr",
     "output_type": "stream",
     "text": [
      "Some weights of the model checkpoint at xlm-roberta-large were not used when initializing XLMRobertaModel: ['lm_head.bias', 'lm_head.layer_norm.weight', 'lm_head.dense.weight', 'lm_head.dense.bias', 'lm_head.decoder.weight', 'lm_head.layer_norm.bias']\n",
      "- This IS expected if you are initializing XLMRobertaModel from the checkpoint of a model trained on another task or with another architecture (e.g. initializing a BertForSequenceClassification model from a BertForPreTraining model).\n",
      "- This IS NOT expected if you are initializing XLMRobertaModel from the checkpoint of a model that you expect to be exactly identical (initializing a BertForSequenceClassification model from a BertForSequenceClassification model).\n"
     ]
    },
    {
     "name": "stdout",
     "output_type": "stream",
     "text": [
      "Loading Checkpoint ...\n",
      "Setting Models state to checkpoint...\n",
      "Model state set.\n",
      "Index dict len: 21579\n"
     ]
    }
   ],
   "source": [
    "%load_ext autoreload\n",
    "%autoreload 2\n",
    "import os\n",
    "import sys\n",
    "import joblib\n",
    "import pandas as pd\n",
    "import numpy as np\n",
    "import faiss\n",
    "sys.path.append('../')\n",
    "\n",
    "os.environ['TRANSFORMERS_CACHE'] = '/data/users/kartik/hf_cache/'\n",
    "os.environ['CUDA_VISIBLE_DEVICES']='0'\n",
    "\n",
    "from prod_code.get_predictions import GetPredictions\n",
    "\n",
    "\n",
    "load_path = '/data/users/kartik/Dictionary_and_Word_Embeddings/checkpoints/xlm-roberta-large_cosineloss_fasttext_embs_True_adapter_False_extradata_2'\n",
    "load_path = '/data/users/kartik/Dictionary_and_Word_Embeddings/checkpoints/xlm-roberta-large_cosineloss_fasttext_embs_False_adapter_False_extradata_0'\n",
    "getpred = GetPredictions(save_checkpoint_path=load_path, model_type='multilingual') #mono/multi\n"
   ]
  },
  {
   "cell_type": "code",
   "execution_count": 10,
   "id": "29e6057f",
   "metadata": {},
   "outputs": [
    {
     "name": "stdout",
     "output_type": "stream",
     "text": [
      "Loading Data for Indexing...\n",
      "Creating FAISS Index...\n",
      "Data len before unique_mapping: 37402\n",
      "Data len after unique_mapping: 21579\n",
      "Index shape (21579, 300)\n",
      "FAISS Index Creation Done...\n"
     ]
    }
   ],
   "source": [
    "from utils.faiss_utils import create_and_store_index, get_top_n_accuracy\n",
    "from utils.params import get_roberta_params, get_xlm_params\n",
    "\n",
    "params = get_xlm_params()\n",
    "create_and_store_index(\n",
    "    params['emb_type'], params['knn_measure']\n",
    "    )\n"
   ]
  },
  {
   "cell_type": "code",
   "execution_count": 2,
   "id": "723afa83",
   "metadata": {},
   "outputs": [
    {
     "data": {
      "application/vnd.jupyter.widget-view+json": {
       "model_id": "0108cc9ef91e42a8ac3c386058fe3124",
       "version_major": 2,
       "version_minor": 0
      },
      "text/plain": [
       "  0%|          | 0/264 [00:00<?, ?it/s]"
      ]
     },
     "metadata": {},
     "output_type": "display_data"
    },
    {
     "name": "stdout",
     "output_type": "stream",
     "text": [
      "Average Rank @1000 : 982.8667930789287\n",
      "Median Rank @1000 : 1001.0\n",
      "Rank Variance @1000 : 107.70149720430938\n",
      "Top 1 accuracy is 0.0\n",
      "Top 2 accuracy is 0.0\n",
      "Top 5 accuracy is 0.0\n",
      "Top 10 accuracy is 0.001\n",
      "Top 50 accuracy is 0.001\n",
      "Top 100 accuracy is 0.002\n"
     ]
    }
   ],
   "source": [
    "val = joblib.load('../data/clean_data/val.joblib')\n",
    "ranks, nearest = getpred.get_predictions(val, NEAREST_NEIGHBOUR_NUM = 1000, pred_batch = 16) #"
   ]
  },
  {
   "cell_type": "code",
   "execution_count": 14,
   "id": "1035b120-ba5f-4cf4-ae16-2b1b9594aaa7",
   "metadata": {},
   "outputs": [
    {
     "data": {
      "application/vnd.jupyter.widget-view+json": {
       "model_id": "911f00bb803244e3a1d4dcb107f8a437",
       "version_major": 2,
       "version_minor": 0
      },
      "text/plain": [
       "  0%|          | 0/33 [00:00<?, ?it/s]"
      ]
     },
     "metadata": {},
     "output_type": "display_data"
    },
    {
     "name": "stdout",
     "output_type": "stream",
     "text": [
      "Average Rank @1000 : 236.8788812514814\n",
      "Median Rank @1000 : 28.0\n",
      "Rank Variance @1000 : 365.5153320369657\n",
      "Top 1 accuracy is 0.12\n",
      "Top 2 accuracy is 0.185\n",
      "Top 5 accuracy is 0.292\n",
      "Top 10 accuracy is 0.376\n",
      "Top 50 accuracy is 0.569\n",
      "Top 100 accuracy is 0.645\n"
     ]
    }
   ],
   "source": [
    "val = joblib.load('../data/clean_data/val.joblib')\n",
    "ranks, nearest = getpred.get_predictions(val, NEAREST_NEIGHBOUR_NUM = 1000, pred_batch = 128) #"
   ]
  },
  {
   "cell_type": "code",
   "execution_count": 6,
   "id": "e3ca97cf-9a5d-4754-a5e6-9ff111a5f459",
   "metadata": {},
   "outputs": [
    {
     "data": {
      "text/plain": [
       "['comfortable',\n",
       " 'pleasant',\n",
       " 'roomy',\n",
       " 'well-appointed',\n",
       " 'pleasurable',\n",
       " 'homely',\n",
       " 'mellow',\n",
       " 'enjoyable',\n",
       " 'tidy',\n",
       " 'conducive',\n",
       " 'ample',\n",
       " 'terrifically',\n",
       " 'easeful',\n",
       " 'fabulously',\n",
       " 'solidly',\n",
       " 'gentle',\n",
       " 'exceedingly',\n",
       " 'beautiful',\n",
       " 'sweetly',\n",
       " 'enough',\n",
       " 'cosseted',\n",
       " 'sleek',\n",
       " 'dependable',\n",
       " 'adequate',\n",
       " 'extremely',\n",
       " 'speckless',\n",
       " 'warmly',\n",
       " 'acquiescent',\n",
       " 'mindful',\n",
       " 'circumspect',\n",
       " 'austerely',\n",
       " 'fully',\n",
       " 'ease',\n",
       " 'cushty',\n",
       " 'noiseless',\n",
       " 'suitably',\n",
       " 'frisky',\n",
       " 'fashionable',\n",
       " 'brisk',\n",
       " 'serviceable',\n",
       " 'enviable',\n",
       " 'even-tempered',\n",
       " 'sane',\n",
       " 'demure',\n",
       " 'calmer',\n",
       " 'plenty',\n",
       " 'attractive',\n",
       " 'suitable',\n",
       " 'silky',\n",
       " 'plump']"
      ]
     },
     "execution_count": 6,
     "metadata": {},
     "output_type": "execute_result"
    }
   ],
   "source": [
    "getpred.get_prediction_on_sentence(\"आराम और सामग्री की स्थिति में।\")"
   ]
  },
  {
   "cell_type": "code",
   "execution_count": null,
   "id": "e1e928ac-5f5d-4498-b608-edd2a4e39a85",
   "metadata": {},
   "outputs": [],
   "source": []
  }
 ],
 "metadata": {
  "kernelspec": {
   "display_name": "Python 3.8.12 ('envpy3')",
   "language": "python",
   "name": "python3"
  },
  "language_info": {
   "codemirror_mode": {
    "name": "ipython",
    "version": 3
   },
   "file_extension": ".py",
   "mimetype": "text/x-python",
   "name": "python",
   "nbconvert_exporter": "python",
   "pygments_lexer": "ipython3",
   "version": "3.8.12"
  },
  "vscode": {
   "interpreter": {
    "hash": "da21ce15d6df5ad024774a392a1d8e145e78a5d2dfb1784f247b0a3f84306330"
   }
  }
 },
 "nbformat": 4,
 "nbformat_minor": 5
}
