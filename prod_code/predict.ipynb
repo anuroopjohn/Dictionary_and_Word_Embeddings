{
 "cells": [
  {
   "cell_type": "code",
   "execution_count": 1,
   "id": "83d6020b-2808-4952-9b26-16a6a844efa5",
   "metadata": {},
   "outputs": [
    {
     "name": "stderr",
     "output_type": "stream",
     "text": [
      "2022-08-05 21:11:07.008265: I tensorflow/core/util/util.cc:169] oneDNN custom operations are on. You may see slightly different numerical results due to floating-point round-off errors from different computation orders. To turn them off, set the environment variable `TF_ENABLE_ONEDNN_OPTS=0`.\n"
     ]
    },
    {
     "name": "stdout",
     "output_type": "stream",
     "text": [
      "Seed set to 42\n"
     ]
    }
   ],
   "source": [
    "%load_ext autoreload\n",
    "%autoreload 2\n",
    "import os\n",
    "import sys\n",
    "import joblib\n",
    "import pandas as pd\n",
    "import numpy as np\n",
    "import faiss\n",
    "sys.path.append('../')\n",
    "\n",
    "os.environ['TRANSFORMERS_CACHE'] = '/data/users/kartik/hf_cache/'\n",
    "os.environ['CUDA_VISIBLE_DEVICES']='0'\n",
    "\n",
    "from prod_code.get_predictions import GetPredictions\n",
    "\n"
   ]
  },
  {
   "cell_type": "code",
   "execution_count": 15,
   "id": "62d4b2b8",
   "metadata": {},
   "outputs": [],
   "source": [
    "load_path='/data/users/kartik/Dictionary_and_Word_Embeddings/checkpoints/xlm-roberta-large_bert-base-uncased_0'\n"
   ]
  },
  {
   "cell_type": "code",
   "execution_count": 3,
   "id": "29e6057f",
   "metadata": {},
   "outputs": [
    {
     "name": "stdout",
     "output_type": "stream",
     "text": [
      "Loading Data for Indexing...\n",
      "loading files: ['../data/clean_data/val.joblib', '../data/clean_data/test.joblib']\n",
      "Creating FAISS Index...\n",
      "Data len before unique_mapping: 8950\n",
      "Data len after unique_mapping: 8950\n",
      "Index shape (8950, 768)\n",
      "FAISS Index Creation Done...\n"
     ]
    }
   ],
   "source": [
    "from utils.faiss_utils import create_and_store_index, get_top_n_accuracy\n",
    "from trainer.params import get_roberta_params, get_xlm_params\n",
    "import json\n",
    "params = json.load(open(load_path+'/params.json'))\n",
    "create_and_store_index(\n",
    "    params['emb_type'], params['knn_measure']\n",
    "    )\n"
   ]
  },
  {
   "cell_type": "code",
   "execution_count": 6,
   "id": "dac4f884",
   "metadata": {},
   "outputs": [
    {
     "data": {
      "text/plain": [
       "{'model_checkpoint': 'xlm-roberta-large',\n",
       " 'source_column': 'gloss',\n",
       " 'max_len': 150,\n",
       " 'batch_size': 16,\n",
       " 'dropout': 0.1,\n",
       " 'learning_rate': 0.0001,\n",
       " 'num_epochs': 150,\n",
       " 'early_stopping_limit': 5,\n",
       " 'device': 'cuda:0',\n",
       " 'loss_fn_name': 'cosine',\n",
       " 'emb_type': 'bert-base-uncased',\n",
       " 'use_adapters': True,\n",
       " 'resume_from_checkpoint': False,\n",
       " 'output_size': 768,\n",
       " 'knn_measure': 'cosine',\n",
       " 'num_warmup_steps': 300,\n",
       " 'extra_data': False}"
      ]
     },
     "execution_count": 6,
     "metadata": {},
     "output_type": "execute_result"
    }
   ],
   "source": [
    "params"
   ]
  },
  {
   "cell_type": "code",
   "execution_count": 18,
   "id": "7d582431",
   "metadata": {},
   "outputs": [
    {
     "name": "stdout",
     "output_type": "stream",
     "text": [
      "Preparing Model and Search Attributes...\n",
      "\n",
      "Loading Tokenizer: xlm-roberta-large ...\n",
      "Loading from : /data/users/kartik/Dictionary_and_Word_Embeddings/checkpoints/xlm-roberta-large_bert-base-uncased_0/model.pt\n",
      "\n",
      "Using device cuda:0 for training...\n"
     ]
    },
    {
     "name": "stderr",
     "output_type": "stream",
     "text": [
      "Some weights of the model checkpoint at xlm-roberta-large were not used when initializing XLMRobertaModel: ['lm_head.decoder.weight', 'lm_head.layer_norm.bias', 'lm_head.dense.weight', 'lm_head.layer_norm.weight', 'lm_head.dense.bias', 'lm_head.bias']\n",
      "- This IS expected if you are initializing XLMRobertaModel from the checkpoint of a model trained on another task or with another architecture (e.g. initializing a BertForSequenceClassification model from a BertForPreTraining model).\n",
      "- This IS NOT expected if you are initializing XLMRobertaModel from the checkpoint of a model that you expect to be exactly identical (initializing a BertForSequenceClassification model from a BertForSequenceClassification model).\n"
     ]
    },
    {
     "name": "stdout",
     "output_type": "stream",
     "text": [
      "Loading Checkpoint ...\n",
      "Setting Models state to checkpoint...\n",
      "Model state set.\n",
      "Index dict len: 8950\n"
     ]
    }
   ],
   "source": [
    "getpred = GetPredictions(save_checkpoint_path=load_path, model_type='multilingual') #mono/multi\n"
   ]
  },
  {
   "cell_type": "code",
   "execution_count": 19,
   "id": "e69e4e5c",
   "metadata": {},
   "outputs": [
    {
     "data": {
      "application/vnd.jupyter.widget-view+json": {
       "model_id": "d9b1e08722414fc3a564ea44a6a9f8e0",
       "version_major": 2,
       "version_minor": 0
      },
      "text/plain": [
       "  0%|          | 0/71 [00:00<?, ?it/s]"
      ]
     },
     "metadata": {},
     "output_type": "display_data"
    },
    {
     "name": "stdout",
     "output_type": "stream",
     "text": [
      "Average Rank @1000 : 292.3144432194046\n",
      "Median Rank @1000 : 86.0\n",
      "Rank Variance @1000 : 370.52913015895905\n",
      "Top 1 accuracy is 0.074\n",
      "Top 2 accuracy is 0.11\n",
      "Top 5 accuracy is 0.168\n",
      "Top 10 accuracy is 0.228\n",
      "Top 50 accuracy is 0.421\n",
      "Top 100 accuracy is 0.523\n"
     ]
    }
   ],
   "source": [
    "val = joblib.load('../data/clean_data/val.joblib')\n",
    "ranks, nearest = getpred.get_predictions(val, NEAREST_NEIGHBOUR_NUM = 1000, pred_batch = 64) #"
   ]
  },
  {
   "cell_type": "code",
   "execution_count": 11,
   "id": "f01caa8f",
   "metadata": {},
   "outputs": [],
   "source": [
    "# val"
   ]
  },
  {
   "cell_type": "code",
   "execution_count": 39,
   "id": "723afa83",
   "metadata": {},
   "outputs": [
    {
     "data": {
      "application/vnd.jupyter.widget-view+json": {
       "model_id": "111af12b31854fa38bfaf00850b87361",
       "version_major": 2,
       "version_minor": 0
      },
      "text/plain": [
       "  0%|          | 0/66 [00:00<?, ?it/s]"
      ]
     },
     "metadata": {},
     "output_type": "display_data"
    },
    {
     "name": "stdout",
     "output_type": "stream",
     "text": [
      "Average Rank @1000 : 158.88196255036738\n",
      "Median Rank @1000 : 16.0\n",
      "Rank Variance @1000 : 296.1288889106231\n",
      "Top 1 accuracy is 0.168\n",
      "Top 2 accuracy is 0.242\n",
      "Top 5 accuracy is 0.353\n",
      "Top 10 accuracy is 0.443\n",
      "Top 50 accuracy is 0.645\n",
      "Top 100 accuracy is 0.723\n"
     ]
    }
   ],
   "source": [
    "val = joblib.load('../data/clean_data/val.joblib')\n",
    "# val = joblib.load('../data/clean_data/de_wiki_muse.joblib')\n",
    "ranks, nearest = getpred.get_predictions(val, NEAREST_NEIGHBOUR_NUM = 1000, pred_batch = 64) #"
   ]
  },
  {
   "cell_type": "code",
   "execution_count": 14,
   "id": "e3ca97cf-9a5d-4754-a5e6-9ff111a5f459",
   "metadata": {},
   "outputs": [
    {
     "data": {
      "text/plain": [
       "['footbath',\n",
       " 'slackish',\n",
       " 'sleepily',\n",
       " 'sideboard',\n",
       " 'heavy-hearted',\n",
       " 'angst',\n",
       " 'poise',\n",
       " 'weak',\n",
       " 'worn-out',\n",
       " 'pleasurable',\n",
       " 'prescient',\n",
       " 'skiddly',\n",
       " 'galvanic',\n",
       " 'up',\n",
       " 'hunch',\n",
       " 'knees-up',\n",
       " 'mellow',\n",
       " 'bespectacled',\n",
       " 'blubbery',\n",
       " 'egg-crate',\n",
       " 'cabined',\n",
       " 'roughcast',\n",
       " 'passionless',\n",
       " 'gentle',\n",
       " 'cavort',\n",
       " 'ankle-deep',\n",
       " 'world-weary',\n",
       " 'deckhand',\n",
       " 'belt',\n",
       " 'brazen',\n",
       " 'languish',\n",
       " 'prestidigitation',\n",
       " 'cosseted',\n",
       " 'graceless',\n",
       " 'tensen',\n",
       " 'craggy',\n",
       " 'legroom',\n",
       " 'confusional',\n",
       " 'transitorily',\n",
       " 'sedentary',\n",
       " 'resolute',\n",
       " 'emptyhanded',\n",
       " 'onside',\n",
       " 'swimmy',\n",
       " 'stiffness']"
      ]
     },
     "execution_count": 14,
     "metadata": {},
     "output_type": "execute_result"
    }
   ],
   "source": [
    "getpred.get_prediction_on_sentence(\"आराम की स्थिति में।\")"
   ]
  },
  {
   "cell_type": "code",
   "execution_count": null,
   "id": "e1e928ac-5f5d-4498-b608-edd2a4e39a85",
   "metadata": {},
   "outputs": [],
   "source": []
  }
 ],
 "metadata": {
  "kernelspec": {
   "display_name": "Python 3.8.12 ('envpy3')",
   "language": "python",
   "name": "python3"
  },
  "language_info": {
   "codemirror_mode": {
    "name": "ipython",
    "version": 3
   },
   "file_extension": ".py",
   "mimetype": "text/x-python",
   "name": "python",
   "nbconvert_exporter": "python",
   "pygments_lexer": "ipython3",
   "version": "3.8.12"
  },
  "vscode": {
   "interpreter": {
    "hash": "da21ce15d6df5ad024774a392a1d8e145e78a5d2dfb1784f247b0a3f84306330"
   }
  }
 },
 "nbformat": 4,
 "nbformat_minor": 5
}
