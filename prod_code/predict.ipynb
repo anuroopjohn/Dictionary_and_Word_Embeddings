{
 "cells": [
  {
   "cell_type": "code",
   "execution_count": 1,
   "id": "83d6020b-2808-4952-9b26-16a6a844efa5",
   "metadata": {},
   "outputs": [
    {
     "name": "stderr",
     "output_type": "stream",
     "text": [
      "2022-08-01 11:48:19.035818: I tensorflow/core/util/util.cc:169] oneDNN custom operations are on. You may see slightly different numerical results due to floating-point round-off errors from different computation orders. To turn them off, set the environment variable `TF_ENABLE_ONEDNN_OPTS=0`.\n"
     ]
    },
    {
     "name": "stdout",
     "output_type": "stream",
     "text": [
      "Seed set to 42\n"
     ]
    }
   ],
   "source": [
    "%load_ext autoreload\n",
    "%autoreload 2\n",
    "import os\n",
    "import sys\n",
    "import joblib\n",
    "import pandas as pd\n",
    "import numpy as np\n",
    "import faiss\n",
    "sys.path.append('../')\n",
    "\n",
    "os.environ['TRANSFORMERS_CACHE'] = '/data/users/kartik/hf_cache/'\n",
    "os.environ['CUDA_VISIBLE_DEVICES']='0'\n",
    "\n",
    "from prod_code.get_predictions import GetPredictions\n",
    "\n"
   ]
  },
  {
   "cell_type": "code",
   "execution_count": 5,
   "id": "29e6057f",
   "metadata": {},
   "outputs": [
    {
     "name": "stdout",
     "output_type": "stream",
     "text": [
      "Loading Data for Indexing...\n",
      "Creating FAISS Index...\n",
      "Data len before unique_mapping: 7036\n",
      "Data len after unique_mapping: 3996\n",
      "Index shape (3996, 300)\n",
      "FAISS Index Creation Done...\n"
     ]
    }
   ],
   "source": [
    "from utils.faiss_utils import create_and_store_index, get_top_n_accuracy\n",
    "from trainer.params import get_roberta_params, get_xlm_params\n",
    "\n",
    "params = get_xlm_params()\n",
    "create_and_store_index(\n",
    "    params['emb_type'], params['knn_measure']\n",
    "    )\n"
   ]
  },
  {
   "cell_type": "code",
   "execution_count": 2,
   "id": "7d582431",
   "metadata": {},
   "outputs": [
    {
     "name": "stdout",
     "output_type": "stream",
     "text": [
      "Preparing Model and Search Attributes...\n",
      "\n",
      "Loading Tokenizer: xlm-roberta-large ...\n",
      "Loading from : /data/users/kartik/Dictionary_and_Word_Embeddings/checkpoints/xlm-roberta-large_11/model.pt\n",
      "\n",
      "Using device cuda:0 for training...\n"
     ]
    },
    {
     "name": "stderr",
     "output_type": "stream",
     "text": [
      "Some weights of the model checkpoint at xlm-roberta-large were not used when initializing XLMRobertaModel: ['lm_head.layer_norm.weight', 'lm_head.dense.bias', 'lm_head.layer_norm.bias', 'lm_head.bias', 'lm_head.decoder.weight', 'lm_head.dense.weight']\n",
      "- This IS expected if you are initializing XLMRobertaModel from the checkpoint of a model trained on another task or with another architecture (e.g. initializing a BertForSequenceClassification model from a BertForPreTraining model).\n",
      "- This IS NOT expected if you are initializing XLMRobertaModel from the checkpoint of a model that you expect to be exactly identical (initializing a BertForSequenceClassification model from a BertForSequenceClassification model).\n"
     ]
    },
    {
     "name": "stdout",
     "output_type": "stream",
     "text": [
      "Loading Checkpoint ...\n",
      "Setting Models state to checkpoint...\n",
      "Model state set.\n",
      "Index dict len: 3996\n"
     ]
    }
   ],
   "source": [
    "\n",
    "load_path='/data/users/kartik/Dictionary_and_Word_Embeddings/checkpoints/xlm-roberta-large_11'\n",
    "getpred = GetPredictions(save_checkpoint_path=load_path, model_type='multilingual') #mono/multi\n"
   ]
  },
  {
   "cell_type": "code",
   "execution_count": 3,
   "id": "e69e4e5c",
   "metadata": {},
   "outputs": [
    {
     "data": {
      "application/vnd.jupyter.widget-view+json": {
       "model_id": "b49081a22eb2434e86f8701fe3285807",
       "version_major": 2,
       "version_minor": 0
      },
      "text/plain": [
       "  0%|          | 0/55 [00:00<?, ?it/s]"
      ]
     },
     "metadata": {},
     "output_type": "display_data"
    },
    {
     "name": "stdout",
     "output_type": "stream",
     "text": [
      "Average Rank @1000 : 222.16752429959976\n",
      "Median Rank @1000 : 37.0\n",
      "Rank Variance @1000 : 338.5179719497607\n",
      "Top 1 accuracy is 0.155\n",
      "Top 2 accuracy is 0.216\n",
      "Top 5 accuracy is 0.297\n",
      "Top 10 accuracy is 0.366\n",
      "Top 50 accuracy is 0.541\n",
      "Top 100 accuracy is 0.628\n"
     ]
    }
   ],
   "source": [
    "val = joblib.load('../data/clean_data/val.joblib')\n",
    "ranks, nearest = getpred.get_predictions(val, NEAREST_NEIGHBOUR_NUM = 1000, pred_batch = 64) #"
   ]
  },
  {
   "cell_type": "code",
   "execution_count": 4,
   "id": "87f8a98b",
   "metadata": {},
   "outputs": [
    {
     "data": {
      "text/html": [
       "<div>\n",
       "<style scoped>\n",
       "    .dataframe tbody tr th:only-of-type {\n",
       "        vertical-align: middle;\n",
       "    }\n",
       "\n",
       "    .dataframe tbody tr th {\n",
       "        vertical-align: top;\n",
       "    }\n",
       "\n",
       "    .dataframe thead th {\n",
       "        text-align: right;\n",
       "    }\n",
       "</style>\n",
       "<table border=\"1\" class=\"dataframe\">\n",
       "  <thead>\n",
       "    <tr style=\"text-align: right;\">\n",
       "      <th></th>\n",
       "      <th>word</th>\n",
       "      <th>gloss</th>\n",
       "      <th>fasttext_aligned</th>\n",
       "    </tr>\n",
       "  </thead>\n",
       "  <tbody>\n",
       "    <tr>\n",
       "      <th>0</th>\n",
       "      <td>AIS</td>\n",
       "      <td>, as an element of the Global Marine Distress ...</td>\n",
       "      <td>[-0.0867, 0.0185, -0.0289, 0.1101, -0.0047, 0....</td>\n",
       "    </tr>\n",
       "    <tr>\n",
       "      <th>1</th>\n",
       "      <td>Addisonian</td>\n",
       "      <td>Of or relating to</td>\n",
       "      <td>[0.1067, -0.0507, -0.0493, -0.0121, -0.0104, -...</td>\n",
       "    </tr>\n",
       "    <tr>\n",
       "      <th>2</th>\n",
       "      <td>Asturian</td>\n",
       "      <td>Of or pertaining to the Asturian language .</td>\n",
       "      <td>[0.025, 0.0495, 0.0007, -0.0087, -0.026, 0.049...</td>\n",
       "    </tr>\n",
       "    <tr>\n",
       "      <th>3</th>\n",
       "      <td>Asturian</td>\n",
       "      <td>Of or pertaining to the region of Asturias in ...</td>\n",
       "      <td>[0.025, 0.0495, 0.0007, -0.0087, -0.026, 0.049...</td>\n",
       "    </tr>\n",
       "    <tr>\n",
       "      <th>4</th>\n",
       "      <td>BM</td>\n",
       "      <td>or</td>\n",
       "      <td>[-0.0328, -0.0139, -0.0483, 0.0942, 0.0872, 0....</td>\n",
       "    </tr>\n",
       "    <tr>\n",
       "      <th>...</th>\n",
       "      <td>...</td>\n",
       "      <td>...</td>\n",
       "      <td>...</td>\n",
       "    </tr>\n",
       "    <tr>\n",
       "      <th>3493</th>\n",
       "      <td>zircon</td>\n",
       "      <td>A crystal of zircon , sometimes used as a fals...</td>\n",
       "      <td>[0.0267, -0.0014, -0.0297, -0.012, -0.0456, 0....</td>\n",
       "    </tr>\n",
       "    <tr>\n",
       "      <th>3494</th>\n",
       "      <td>zircon</td>\n",
       "      <td>A mineral occurring in tetragonal crystals , u...</td>\n",
       "      <td>[0.0267, -0.0014, -0.0297, -0.012, -0.0456, 0....</td>\n",
       "    </tr>\n",
       "    <tr>\n",
       "      <th>3495</th>\n",
       "      <td>zoo</td>\n",
       "      <td>Any place that is wild , crowded , or chaotic .</td>\n",
       "      <td>[-0.0047, -0.0617, 0.0026, 0.0046, -0.0421, 0....</td>\n",
       "    </tr>\n",
       "    <tr>\n",
       "      <th>3496</th>\n",
       "      <td>zoonotic</td>\n",
       "      <td>Of or relating to zoonosis .</td>\n",
       "      <td>[-0.044, -0.0255, -0.0769, 0.0777, -0.0504, -0...</td>\n",
       "    </tr>\n",
       "    <tr>\n",
       "      <th>3497</th>\n",
       "      <td>zygodactyl</td>\n",
       "      <td>Having two toes pointing forward , and two poi...</td>\n",
       "      <td>[-0.0437, -0.003, -0.0228, 0.1382, -0.0716, -0...</td>\n",
       "    </tr>\n",
       "  </tbody>\n",
       "</table>\n",
       "<p>3498 rows × 3 columns</p>\n",
       "</div>"
      ],
      "text/plain": [
       "            word                                              gloss  \\\n",
       "0            AIS  , as an element of the Global Marine Distress ...   \n",
       "1     Addisonian                                  Of or relating to   \n",
       "2       Asturian        Of or pertaining to the Asturian language .   \n",
       "3       Asturian  Of or pertaining to the region of Asturias in ...   \n",
       "4             BM                                                 or   \n",
       "...          ...                                                ...   \n",
       "3493      zircon  A crystal of zircon , sometimes used as a fals...   \n",
       "3494      zircon  A mineral occurring in tetragonal crystals , u...   \n",
       "3495         zoo    Any place that is wild , crowded , or chaotic .   \n",
       "3496    zoonotic                       Of or relating to zoonosis .   \n",
       "3497  zygodactyl  Having two toes pointing forward , and two poi...   \n",
       "\n",
       "                                       fasttext_aligned  \n",
       "0     [-0.0867, 0.0185, -0.0289, 0.1101, -0.0047, 0....  \n",
       "1     [0.1067, -0.0507, -0.0493, -0.0121, -0.0104, -...  \n",
       "2     [0.025, 0.0495, 0.0007, -0.0087, -0.026, 0.049...  \n",
       "3     [0.025, 0.0495, 0.0007, -0.0087, -0.026, 0.049...  \n",
       "4     [-0.0328, -0.0139, -0.0483, 0.0942, 0.0872, 0....  \n",
       "...                                                 ...  \n",
       "3493  [0.0267, -0.0014, -0.0297, -0.012, -0.0456, 0....  \n",
       "3494  [0.0267, -0.0014, -0.0297, -0.012, -0.0456, 0....  \n",
       "3495  [-0.0047, -0.0617, 0.0026, 0.0046, -0.0421, 0....  \n",
       "3496  [-0.044, -0.0255, -0.0769, 0.0777, -0.0504, -0...  \n",
       "3497  [-0.0437, -0.003, -0.0228, 0.1382, -0.0716, -0...  \n",
       "\n",
       "[3498 rows x 3 columns]"
      ]
     },
     "execution_count": 4,
     "metadata": {},
     "output_type": "execute_result"
    }
   ],
   "source": [
    "val"
   ]
  },
  {
   "cell_type": "code",
   "execution_count": 3,
   "id": "723afa83",
   "metadata": {},
   "outputs": [
    {
     "data": {
      "application/vnd.jupyter.widget-view+json": {
       "model_id": "a71307f5ef6b40b3952b3b79cb6ada52",
       "version_major": 2,
       "version_minor": 0
      },
      "text/plain": [
       "  0%|          | 0/887 [00:00<?, ?it/s]"
      ]
     },
     "metadata": {},
     "output_type": "display_data"
    },
    {
     "name": "stdout",
     "output_type": "stream",
     "text": [
      "Average Rank @1000 : 493.68910301578353\n",
      "Median Rank @1000 : 348.0\n",
      "Rank Variance @1000 : 446.60213713164956\n",
      "Top 1 accuracy is 0.042\n",
      "Top 2 accuracy is 0.069\n",
      "Top 5 accuracy is 0.115\n",
      "Top 10 accuracy is 0.161\n",
      "Top 50 accuracy is 0.3\n",
      "Top 100 accuracy is 0.371\n"
     ]
    }
   ],
   "source": [
    "val = joblib.load('../data/clean_data/val.joblib')\n",
    "# val = joblib.load('../data/clean_data/de_wiki_muse.joblib')\n",
    "# ranks, nearest = getpred.get_predictions(val, NEAREST_NEIGHBOUR_NUM = 1000, pred_batch = 128) #"
   ]
  },
  {
   "cell_type": "code",
   "execution_count": 9,
   "id": "e3ca97cf-9a5d-4754-a5e6-9ff111a5f459",
   "metadata": {},
   "outputs": [
    {
     "data": {
      "text/plain": [
       "['glücklicherweise',\n",
       " 'zurücklehnen',\n",
       " 'losgelassen',\n",
       " 'ruhig',\n",
       " 'eingeschlafen',\n",
       " 'stundenlang',\n",
       " 'geschlafen',\n",
       " 'entspannt',\n",
       " 'frustrierend',\n",
       " 'hektisch',\n",
       " 'hinterher',\n",
       " 'nachdenklich',\n",
       " 'anstrengend',\n",
       " 'aber',\n",
       " 'Aber',\n",
       " 'regungslos',\n",
       " 'doch',\n",
       " 'So',\n",
       " 'so',\n",
       " 'SO',\n",
       " 'erfreulicherweise',\n",
       " 'verkrampft',\n",
       " 'trotzdem',\n",
       " 'erfrischend',\n",
       " 'aushalten',\n",
       " 'gelangweilt',\n",
       " 'verständlicherweise',\n",
       " 'schlafen',\n",
       " 'aufgeregt',\n",
       " 'zumachen',\n",
       " 'Zumachen',\n",
       " 'ausruhen',\n",
       " 'ehrlicherweise',\n",
       " 'vorsichtig',\n",
       " 'Bettdecke',\n",
       " 'gewöhnt',\n",
       " 'zurückhalten',\n",
       " 'minutenlang',\n",
       " 'erstaunlicherweise',\n",
       " 'verschlafen',\n",
       " 'Verschlafen',\n",
       " 'augenblicklich',\n",
       " 'unbequem',\n",
       " 'ungeduldig',\n",
       " 'ungehalten',\n",
       " 'durchatmen',\n",
       " 'gemütlich',\n",
       " 'Beruhigen',\n",
       " 'beruhigen',\n",
       " 'drängeln']"
      ]
     },
     "execution_count": 9,
     "metadata": {},
     "output_type": "execute_result"
    }
   ],
   "source": [
    "getpred.get_prediction_on_sentence(\"आराम और सामग्री की स्थिति में।\")"
   ]
  },
  {
   "cell_type": "code",
   "execution_count": null,
   "id": "e1e928ac-5f5d-4498-b608-edd2a4e39a85",
   "metadata": {},
   "outputs": [],
   "source": []
  }
 ],
 "metadata": {
  "kernelspec": {
   "display_name": "Python 3.8.12 ('envpy3')",
   "language": "python",
   "name": "python3"
  },
  "language_info": {
   "codemirror_mode": {
    "name": "ipython",
    "version": 3
   },
   "file_extension": ".py",
   "mimetype": "text/x-python",
   "name": "python",
   "nbconvert_exporter": "python",
   "pygments_lexer": "ipython3",
   "version": "3.8.12"
  },
  "vscode": {
   "interpreter": {
    "hash": "da21ce15d6df5ad024774a392a1d8e145e78a5d2dfb1784f247b0a3f84306330"
   }
  }
 },
 "nbformat": 4,
 "nbformat_minor": 5
}
